{
 "cells": [
  {
   "cell_type": "code",
   "execution_count": 16,
   "metadata": {
    "collapsed": false
   },
   "outputs": [],
   "source": [
    "import numpy as np\n",
    "np.random.seed(1337)  # for reproducibility\n",
    "from keras.datasets import mnist\n",
    "from keras.models import Sequential, model_from_json\n",
    "from keras.layers.core import Dense, Dropout, Activation\n",
    "from keras.optimizers import SGD, Adam, RMSprop\n",
    "from keras.utils import np_utils\n",
    "from PIL import Image, ImageOps\n",
    "import matplotlib.pyplot as plt\n",
    "import redis\n",
    "import json\n",
    "import h5py"
   ]
  },
  {
   "cell_type": "code",
   "execution_count": 17,
   "metadata": {
    "collapsed": true
   },
   "outputs": [],
   "source": [
    "batch_size = 128\n",
    "nb_classes = 10\n",
    "nb_epoch = 20"
   ]
  },
  {
   "cell_type": "code",
   "execution_count": 18,
   "metadata": {
    "collapsed": true
   },
   "outputs": [],
   "source": [
    "# the data, shuffled and split between train and test sets\n",
    "(X_train, y_train), (X_test, y_test) = mnist.load_data()"
   ]
  },
  {
   "cell_type": "code",
   "execution_count": 19,
   "metadata": {
    "collapsed": false
   },
   "outputs": [
    {
     "name": "stdout",
     "output_type": "stream",
     "text": [
      "60000 train samples\n",
      "10000 test samples\n"
     ]
    }
   ],
   "source": [
    "X_train = X_train.reshape(60000, 784)\n",
    "X_test = X_test.reshape(10000, 784)\n",
    "X_train = X_train.astype(\"float32\")\n",
    "X_test = X_test.astype(\"float32\")\n",
    "X_train /= 255\n",
    "X_test /= 255\n",
    "print(X_train.shape[0], \"train samples\")\n",
    "print(X_test.shape[0], \"test samples\")"
   ]
  },
  {
   "cell_type": "code",
   "execution_count": 20,
   "metadata": {
    "collapsed": true
   },
   "outputs": [],
   "source": [
    "# convert class vectors to binary class matrices\n",
    "Y_train = np_utils.to_categorical(y_train, nb_classes)\n",
    "Y_test = np_utils.to_categorical(y_test, nb_classes)"
   ]
  },
  {
   "cell_type": "code",
   "execution_count": 21,
   "metadata": {
    "collapsed": true
   },
   "outputs": [],
   "source": [
    "model = Sequential()\n",
    "model.add(Dense(512, input_shape=(784,)))\n",
    "model.add(Activation(\"relu\"))\n",
    "model.add(Dropout(0.2))\n",
    "model.add(Dense(512))\n",
    "model.add(Activation(\"relu\"))\n",
    "model.add(Dropout(0.2))\n",
    "model.add(Dense(10))\n",
    "model.add(Activation(\"softmax\"))"
   ]
  },
  {
   "cell_type": "code",
   "execution_count": 22,
   "metadata": {
    "collapsed": false
   },
   "outputs": [
    {
     "name": "stdout",
     "output_type": "stream",
     "text": [
      "____________________________________________________________________________________________________\n",
      "Layer (type)                     Output Shape          Param #     Connected to                     \n",
      "====================================================================================================\n",
      "dense_1 (Dense)                  (None, 512)           401920      dense_input_1[0][0]              \n",
      "____________________________________________________________________________________________________\n",
      "activation_1 (Activation)        (None, 512)           0           dense_1[0][0]                    \n",
      "____________________________________________________________________________________________________\n",
      "dropout_1 (Dropout)              (None, 512)           0           activation_1[0][0]               \n",
      "____________________________________________________________________________________________________\n",
      "dense_2 (Dense)                  (None, 512)           262656      dropout_1[0][0]                  \n",
      "____________________________________________________________________________________________________\n",
      "activation_2 (Activation)        (None, 512)           0           dense_2[0][0]                    \n",
      "____________________________________________________________________________________________________\n",
      "dropout_2 (Dropout)              (None, 512)           0           activation_2[0][0]               \n",
      "____________________________________________________________________________________________________\n",
      "dense_3 (Dense)                  (None, 10)            5130        dropout_2[0][0]                  \n",
      "____________________________________________________________________________________________________\n",
      "activation_3 (Activation)        (None, 10)            0           dense_3[0][0]                    \n",
      "====================================================================================================\n",
      "Total params: 669706\n",
      "____________________________________________________________________________________________________\n"
     ]
    }
   ],
   "source": [
    "model.summary()"
   ]
  },
  {
   "cell_type": "code",
   "execution_count": 23,
   "metadata": {
    "collapsed": true
   },
   "outputs": [],
   "source": [
    "model.compile(loss=\"categorical_crossentropy\",\n",
    "              optimizer=RMSprop(),\n",
    "              metrics=[\"accuracy\"])"
   ]
  },
  {
   "cell_type": "code",
   "execution_count": 24,
   "metadata": {
    "collapsed": false
   },
   "outputs": [
    {
     "name": "stdout",
     "output_type": "stream",
     "text": [
      "Train on 60000 samples, validate on 10000 samples\n",
      "Epoch 1/20\n",
      "60000/60000 [==============================] - 8s - loss: 0.2421 - acc: 0.9251 - val_loss: 0.0980 - val_acc: 0.9697\n",
      "Epoch 2/20\n",
      "60000/60000 [==============================] - 8s - loss: 0.1021 - acc: 0.9693 - val_loss: 0.0929 - val_acc: 0.9726\n",
      "Epoch 3/20\n",
      "60000/60000 [==============================] - 9s - loss: 0.0745 - acc: 0.9778 - val_loss: 0.0936 - val_acc: 0.9734\n",
      "Epoch 4/20\n",
      "60000/60000 [==============================] - 9s - loss: 0.0608 - acc: 0.9819 - val_loss: 0.0685 - val_acc: 0.9807\n",
      "Epoch 5/20\n",
      "60000/60000 [==============================] - 9s - loss: 0.0499 - acc: 0.9845 - val_loss: 0.0702 - val_acc: 0.9805\n",
      "Epoch 6/20\n",
      "60000/60000 [==============================] - 9s - loss: 0.0438 - acc: 0.9870 - val_loss: 0.0737 - val_acc: 0.9814\n",
      "Epoch 7/20\n",
      "60000/60000 [==============================] - 9s - loss: 0.0392 - acc: 0.9889 - val_loss: 0.0724 - val_acc: 0.9831\n",
      "Epoch 8/20\n",
      "60000/60000 [==============================] - 9s - loss: 0.0349 - acc: 0.9902 - val_loss: 0.0813 - val_acc: 0.9815\n",
      "Epoch 9/20\n",
      "60000/60000 [==============================] - 9s - loss: 0.0318 - acc: 0.9905 - val_loss: 0.0892 - val_acc: 0.9831\n",
      "Epoch 10/20\n",
      "60000/60000 [==============================] - 9s - loss: 0.0293 - acc: 0.9915 - val_loss: 0.0889 - val_acc: 0.9825\n",
      "Epoch 11/20\n",
      "60000/60000 [==============================] - 10s - loss: 0.0272 - acc: 0.9925 - val_loss: 0.0947 - val_acc: 0.9830\n",
      "Epoch 12/20\n",
      "60000/60000 [==============================] - 10s - loss: 0.0249 - acc: 0.9930 - val_loss: 0.1075 - val_acc: 0.9797\n",
      "Epoch 13/20\n",
      "60000/60000 [==============================] - 10s - loss: 0.0230 - acc: 0.9931 - val_loss: 0.1020 - val_acc: 0.9831\n",
      "Epoch 14/20\n",
      "60000/60000 [==============================] - 10s - loss: 0.0221 - acc: 0.9940 - val_loss: 0.0969 - val_acc: 0.9830\n",
      "Epoch 15/20\n",
      "60000/60000 [==============================] - 10s - loss: 0.0229 - acc: 0.9942 - val_loss: 0.0974 - val_acc: 0.9834\n",
      "Epoch 16/20\n",
      "60000/60000 [==============================] - 10s - loss: 0.0226 - acc: 0.9943 - val_loss: 0.1041 - val_acc: 0.9837\n",
      "Epoch 17/20\n",
      "60000/60000 [==============================] - 10s - loss: 0.0205 - acc: 0.9944 - val_loss: 0.1119 - val_acc: 0.9827\n",
      "Epoch 18/20\n",
      "60000/60000 [==============================] - 10s - loss: 0.0173 - acc: 0.9953 - val_loss: 0.1077 - val_acc: 0.9840\n",
      "Epoch 19/20\n",
      "60000/60000 [==============================] - 11s - loss: 0.0198 - acc: 0.9950 - val_loss: 0.1071 - val_acc: 0.9847\n",
      "Epoch 20/20\n",
      "60000/60000 [==============================] - 12s - loss: 0.0172 - acc: 0.9955 - val_loss: 0.1305 - val_acc: 0.9820\n"
     ]
    }
   ],
   "source": [
    "history = model.fit(X_train, Y_train,\n",
    "                    batch_size=batch_size, nb_epoch=nb_epoch,\n",
    "                    verbose=1, validation_data=(X_test, Y_test))"
   ]
  },
  {
   "cell_type": "code",
   "execution_count": 25,
   "metadata": {
    "collapsed": true
   },
   "outputs": [],
   "source": [
    "score = model.evaluate(X_test, Y_test, verbose=0)"
   ]
  },
  {
   "cell_type": "code",
   "execution_count": 15,
   "metadata": {
    "collapsed": false
   },
   "outputs": [
    {
     "name": "stdout",
     "output_type": "stream",
     "text": [
      "Test score: 0.130531955769\n",
      "Test accuracy: 0.982\n"
     ]
    }
   ],
   "source": [
    "print(\"Test score:\", score[0])\n",
    "print(\"Test accuracy:\", score[1])"
   ]
  },
  {
   "cell_type": "code",
   "execution_count": 26,
   "metadata": {
    "collapsed": false
   },
   "outputs": [
    {
     "name": "stdout",
     "output_type": "stream",
     "text": [
      "Test score: 0.130531955769\n",
      "Test accuracy: 0.982\n"
     ]
    }
   ],
   "source": [
    "print(\"Test score:\", score[0])\n",
    "print(\"Test accuracy:\", score[1])"
   ]
  },
  {
   "cell_type": "markdown",
   "metadata": {},
   "source": [
    "### Saving the model"
   ]
  },
  {
   "cell_type": "code",
   "execution_count": 16,
   "metadata": {
    "collapsed": false
   },
   "outputs": [
    {
     "name": "stdout",
     "output_type": "stream",
     "text": [
      "[WARNING] mnist_mlp.h5 already exists - overwrite? [y/n]n\n"
     ]
    }
   ],
   "source": [
    "json_string = model.to_json()\n",
    "open(\"mnist_mlp.json\", \"w\").write(json_string)\n",
    "model.save_weights(\"mnist_mlp.h5\")"
   ]
  },
  {
   "cell_type": "markdown",
   "metadata": {},
   "source": [
    "### Saving to redis"
   ]
  },
  {
   "cell_type": "code",
   "execution_count": 27,
   "metadata": {
    "collapsed": true
   },
   "outputs": [],
   "source": [
    "r = redis.StrictRedis(host=\"localhost\", port=6379, db=0)"
   ]
  },
  {
   "cell_type": "code",
   "execution_count": 29,
   "metadata": {
    "collapsed": true
   },
   "outputs": [],
   "source": [
    "r = redis.StrictRedis(host=\"redis.local.pcfdev.io\", port=55098, password=\"c2aa5c33-9099-4d37-a27f-fbb8af882e2d\")"
   ]
  },
  {
   "cell_type": "code",
   "execution_count": 30,
   "metadata": {
    "collapsed": false
   },
   "outputs": [
    {
     "data": {
      "text/plain": [
       "{'aof_base_size': 0,\n",
       " 'aof_buffer_length': 0,\n",
       " 'aof_current_rewrite_time_sec': -1,\n",
       " 'aof_current_size': 2692440,\n",
       " 'aof_delayed_fsync': 0,\n",
       " 'aof_enabled': 1,\n",
       " 'aof_last_bgrewrite_status': 'ok',\n",
       " 'aof_last_rewrite_time_sec': -1,\n",
       " 'aof_last_write_status': 'ok',\n",
       " 'aof_pending_bio_fsync': 0,\n",
       " 'aof_pending_rewrite': 0,\n",
       " 'aof_rewrite_buffer_length': 0,\n",
       " 'aof_rewrite_in_progress': 0,\n",
       " 'aof_rewrite_scheduled': 0,\n",
       " 'arch_bits': 64,\n",
       " 'blocked_clients': 0,\n",
       " 'client_biggest_input_buf': 0,\n",
       " 'client_longest_output_list': 0,\n",
       " 'cluster_enabled': 0,\n",
       " 'config_file': '/var/vcap/store/cf-redis-broker/redis-data/c88bb273-e6cf-4452-8105-3decd246aadf/redis.conf',\n",
       " 'connected_clients': 3,\n",
       " 'connected_slaves': 0,\n",
       " 'db0': {'avg_ttl': 0, 'expires': 0, 'keys': 2},\n",
       " 'evicted_keys': 0,\n",
       " 'expired_keys': 0,\n",
       " 'gcc_version': '4.8.4',\n",
       " 'hz': 10,\n",
       " 'instantaneous_input_kbps': 0.0,\n",
       " 'instantaneous_ops_per_sec': 0,\n",
       " 'instantaneous_output_kbps': 0.0,\n",
       " 'keyspace_hits': 18,\n",
       " 'keyspace_misses': 0,\n",
       " 'latest_fork_usec': 586,\n",
       " 'loading': 0,\n",
       " 'lru_clock': 8277360,\n",
       " 'master_repl_offset': 0,\n",
       " 'mem_allocator': 'jemalloc-3.6.0',\n",
       " 'mem_fragmentation_ratio': 2.54,\n",
       " 'migrate_cached_sockets': 0,\n",
       " 'multiplexing_api': 'epoll',\n",
       " 'os': 'Linux 3.19.0-61-generic x86_64',\n",
       " 'process_id': 17320,\n",
       " 'pubsub_channels': 0,\n",
       " 'pubsub_patterns': 0,\n",
       " 'rdb_bgsave_in_progress': 0,\n",
       " 'rdb_changes_since_last_save': 0,\n",
       " 'rdb_current_bgsave_time_sec': -1,\n",
       " 'rdb_last_bgsave_status': 'ok',\n",
       " 'rdb_last_bgsave_time_sec': 0,\n",
       " 'rdb_last_save_time': 1467891317,\n",
       " 'redis_build_id': '4fdbf2b1fc6992c8',\n",
       " 'redis_git_dirty': 0,\n",
       " 'redis_git_sha1': 0,\n",
       " 'redis_mode': 'standalone',\n",
       " 'redis_version': '3.0.7',\n",
       " 'rejected_connections': 0,\n",
       " 'repl_backlog_active': 0,\n",
       " 'repl_backlog_first_byte_offset': 0,\n",
       " 'repl_backlog_histlen': 0,\n",
       " 'repl_backlog_size': 1048576,\n",
       " 'role': 'master',\n",
       " 'run_id': 'd7b615d1525f7378797d57c290ce3fbe2a36140a',\n",
       " 'sync_full': 0,\n",
       " 'sync_partial_err': 0,\n",
       " 'sync_partial_ok': 0,\n",
       " 'tcp_port': 55098,\n",
       " 'total_commands_processed': 27,\n",
       " 'total_connections_received': 4,\n",
       " 'total_net_input_bytes': 2693122,\n",
       " 'total_net_output_bytes': 24235805,\n",
       " 'uptime_in_days': 0,\n",
       " 'uptime_in_seconds': 18272,\n",
       " 'used_cpu_sys': 17.58,\n",
       " 'used_cpu_sys_children': 0.01,\n",
       " 'used_cpu_user': 6.95,\n",
       " 'used_cpu_user_children': 0.02,\n",
       " 'used_memory': 3549832,\n",
       " 'used_memory_human': '3.39M',\n",
       " 'used_memory_lua': 36864,\n",
       " 'used_memory_peak': 7252600,\n",
       " 'used_memory_peak_human': '6.92M',\n",
       " 'used_memory_rss': 9027584}"
      ]
     },
     "execution_count": 30,
     "metadata": {},
     "output_type": "execute_result"
    }
   ],
   "source": [
    "r.info()"
   ]
  },
  {
   "cell_type": "code",
   "execution_count": 18,
   "metadata": {
    "collapsed": false
   },
   "outputs": [
    {
     "data": {
      "text/plain": [
       "True"
      ]
     },
     "execution_count": 18,
     "metadata": {},
     "output_type": "execute_result"
    }
   ],
   "source": [
    "r.set(\"model\", json_string)"
   ]
  },
  {
   "cell_type": "code",
   "execution_count": 19,
   "metadata": {
    "collapsed": false
   },
   "outputs": [],
   "source": [
    "weights = h5py.File(\"mnist_mlp.h5\", \"r\")"
   ]
  },
  {
   "cell_type": "code",
   "execution_count": 20,
   "metadata": {
    "collapsed": false
   },
   "outputs": [
    {
     "name": "stdout",
     "output_type": "stream",
     "text": [
      "activation_1 <HDF5 group \"/activation_1\" (0 members)>\n",
      "activation_2 <HDF5 group \"/activation_2\" (0 members)>\n",
      "activation_3 <HDF5 group \"/activation_3\" (0 members)>\n",
      "dense_1 <HDF5 group \"/dense_1\" (2 members)>\n",
      "dense_2 <HDF5 group \"/dense_2\" (2 members)>\n",
      "dense_3 <HDF5 group \"/dense_3\" (2 members)>\n",
      "dropout_1 <HDF5 group \"/dropout_1\" (0 members)>\n",
      "dropout_2 <HDF5 group \"/dropout_2\" (0 members)>\n"
     ]
    }
   ],
   "source": [
    "for i in weights:\n",
    "    print(i, weights[i])"
   ]
  },
  {
   "cell_type": "code",
   "execution_count": 21,
   "metadata": {
    "collapsed": false
   },
   "outputs": [],
   "source": [
    "# trick to save the weights to redis and the to load it on CF\n",
    "with open(\"mnist_mlp.h5\", \"rb\") as f:\n",
    "    r.set(\"weights\", f.read())"
   ]
  },
  {
   "cell_type": "code",
   "execution_count": 22,
   "metadata": {
    "collapsed": false
   },
   "outputs": [],
   "source": [
    "weights = r.get(\"weights\")"
   ]
  },
  {
   "cell_type": "code",
   "execution_count": 23,
   "metadata": {
    "collapsed": true
   },
   "outputs": [],
   "source": [
    "with open(\"mnist_mlp_weights.h5\", \"wb\") as f:\n",
    "    f.write(weights)"
   ]
  },
  {
   "cell_type": "code",
   "execution_count": 24,
   "metadata": {
    "collapsed": false
   },
   "outputs": [],
   "source": [
    "model = model_from_json(r.get(\"model\").decode(\"UTF-8\"))"
   ]
  },
  {
   "cell_type": "code",
   "execution_count": 25,
   "metadata": {
    "collapsed": true
   },
   "outputs": [],
   "source": [
    "model.load_weights(\"mnist_mlp_weights.h5\")"
   ]
  },
  {
   "cell_type": "code",
   "execution_count": 28,
   "metadata": {
    "collapsed": false
   },
   "outputs": [
    {
     "data": {
      "text/plain": [
       "[b'weights', b'model']"
      ]
     },
     "execution_count": 28,
     "metadata": {},
     "output_type": "execute_result"
    }
   ],
   "source": [
    "r.keys()"
   ]
  },
  {
   "cell_type": "markdown",
   "metadata": {},
   "source": [
    "### Loading the model"
   ]
  },
  {
   "cell_type": "code",
   "execution_count": 43,
   "metadata": {
    "collapsed": false
   },
   "outputs": [],
   "source": [
    "model = model_from_json(open(\"mnist_mlp.json\").read())\n",
    "model.load_weights(\"mnist_mlp.h5\")\n",
    "model.compile(loss=\"categorical_crossentropy\",\n",
    "              optimizer=RMSprop())"
   ]
  },
  {
   "cell_type": "markdown",
   "metadata": {},
   "source": [
    "### Prediction"
   ]
  },
  {
   "cell_type": "code",
   "execution_count": 44,
   "metadata": {
    "collapsed": false
   },
   "outputs": [
    {
     "data": {
      "text/plain": [
       "array([5, 0, 4, ..., 5, 6, 8], dtype=uint8)"
      ]
     },
     "execution_count": 44,
     "metadata": {},
     "output_type": "execute_result"
    }
   ],
   "source": [
    "y_train"
   ]
  },
  {
   "cell_type": "code",
   "execution_count": 45,
   "metadata": {
    "collapsed": false
   },
   "outputs": [],
   "source": [
    "plt.imshow(X_train[1].reshape(28,28), cmap=\"Greys_r\")\n",
    "plt.show()"
   ]
  },
  {
   "cell_type": "code",
   "execution_count": 2,
   "metadata": {
    "collapsed": false
   },
   "outputs": [],
   "source": [
    "img = Image.open(\"four_test.png\").convert(\"L\")"
   ]
  },
  {
   "cell_type": "code",
   "execution_count": 3,
   "metadata": {
    "collapsed": false
   },
   "outputs": [
    {
     "data": {
      "image/png": "[encoded data removed]",
      "text/plain": [
       "<PIL.Image.Image image mode=L size=28x28 at 0x1063AFFD0>"
      ]
     },
     "execution_count": 3,
     "metadata": {},
     "output_type": "execute_result"
    }
   ],
   "source": [
    "img"
   ]
  },
  {
   "cell_type": "code",
   "execution_count": 4,
   "metadata": {
    "collapsed": true
   },
   "outputs": [],
   "source": [
    "data = np.asarray(img, dtype=\"int32\")"
   ]
  },
  {
   "cell_type": "code",
   "execution_count": 5,
   "metadata": {
    "collapsed": false
   },
   "outputs": [],
   "source": [
    "inverted_img = ImageOps.invert(img)"
   ]
  },
  {
   "cell_type": "code",
   "execution_count": 25,
   "metadata": {
    "collapsed": false
   },
   "outputs": [
    {
     "data": {
      "image/png": "[encoded data removed]",
      "text/plain": [
       "<PIL.Image.Image image mode=L size=28x28 at 0x12D3EC048>"
      ]
     },
     "execution_count": 25,
     "metadata": {},
     "output_type": "execute_result"
    }
   ],
   "source": [
    "inverted_img"
   ]
  },
  {
   "cell_type": "code",
   "execution_count": 6,
   "metadata": {
    "collapsed": false
   },
   "outputs": [],
   "source": [
    "data = np.asarray(inverted_img, dtype=\"int32\")"
   ]
  },
  {
   "cell_type": "code",
   "execution_count": 7,
   "metadata": {
    "collapsed": false
   },
   "outputs": [],
   "source": [
    "rescaled_data = (data/255).reshape(28,28)"
   ]
  },
  {
   "cell_type": "code",
   "execution_count": 48,
   "metadata": {
    "collapsed": false
   },
   "outputs": [],
   "source": [
    "plt.imshow(rescaled_data, cmap=\"Greys_r\")\n",
    "plt.show()"
   ]
  },
  {
   "cell_type": "code",
   "execution_count": 49,
   "metadata": {
    "collapsed": false
   },
   "outputs": [
    {
     "name": "stdout",
     "output_type": "stream",
     "text": [
      "1/1 [==============================] - 0s\n"
     ]
    },
    {
     "data": {
      "text/plain": [
       "array([4])"
      ]
     },
     "execution_count": 49,
     "metadata": {},
     "output_type": "execute_result"
    }
   ],
   "source": [
    "model.predict_classes(np.vstack([rescaled_data.reshape(-1)]))"
   ]
  },
  {
   "cell_type": "code",
   "execution_count": 9,
   "metadata": {
    "collapsed": false
   },
   "outputs": [
    {
     "data": {
      "text/plain": [
       "46.129411764705878"
      ]
     },
     "execution_count": 9,
     "metadata": {},
     "output_type": "execute_result"
    }
   ],
   "source": [
    "rescaled_data.sum()"
   ]
  },
  {
   "cell_type": "code",
   "execution_count": 10,
   "metadata": {
    "collapsed": true
   },
   "outputs": [],
   "source": [
    "stacked_data = np.vstack([rescaled_data.reshape(-1)])"
   ]
  },
  {
   "cell_type": "code",
   "execution_count": 12,
   "metadata": {
    "collapsed": false
   },
   "outputs": [
    {
     "data": {
      "text/plain": [
       "46.129411764705878"
      ]
     },
     "execution_count": 12,
     "metadata": {},
     "output_type": "execute_result"
    }
   ],
   "source": [
    "stacked_data.sum()"
   ]
  },
  {
   "cell_type": "code",
   "execution_count": null,
   "metadata": {
    "collapsed": true
   },
   "outputs": [],
   "source": []
  },
  {
   "cell_type": "code",
   "execution_count": null,
   "metadata": {
    "collapsed": true
   },
   "outputs": [],
   "source": []
  },
  {
   "cell_type": "code",
   "execution_count": null,
   "metadata": {
    "collapsed": true
   },
   "outputs": [],
   "source": []
  }
 ],
 "metadata": {
  "kernelspec": {
   "display_name": "Python 3",
   "language": "python",
   "name": "python3"
  },
  "language_info": {
   "codemirror_mode": {
    "name": "ipython",
    "version": 3
   },
   "file_extension": ".py",
   "mimetype": "text/x-python",
   "name": "python",
   "nbconvert_exporter": "python",
   "pygments_lexer": "ipython3",
   "version": "3.5.2"
  },
  "widgets": {
   "state": {},
   "version": "1.1.2"
  }
 },
 "nbformat": 4,
 "nbformat_minor": 0
}
